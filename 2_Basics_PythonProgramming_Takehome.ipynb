{
  "nbformat": 4,
  "nbformat_minor": 0,
  "metadata": {
    "colab": {
      "provenance": [],
      "toc_visible": true,
      "include_colab_link": true
    },
    "kernelspec": {
      "name": "python3",
      "display_name": "Python 3"
    },
    "language_info": {
      "name": "python"
    }
  },
  "cells": [
    {
      "cell_type": "markdown",
      "metadata": {
        "id": "view-in-github",
        "colab_type": "text"
      },
      "source": [
        "<a href=\"https://colab.research.google.com/github/kskkarthik77/FLCMLBootcamp25Karthik/blob/main/2_Basics_PythonProgramming_Takehome.ipynb\" target=\"_parent\"><img src=\"https://colab.research.google.com/assets/colab-badge.svg\" alt=\"Open In Colab\"/></a>"
      ]
    },
    {
      "cell_type": "markdown",
      "source": [
        "# Personal Finance 101 with Python\n",
        "\n",
        "- Investing is crucial for wealth growth, financial security, and achieving long-term financial goals.\n",
        "- One of the biggest reasons to invest is the power of compounding, which allows your money to grow exponentially over time."
      ],
      "metadata": {
        "id": "BGhlVvcyZGWp"
      }
    },
    {
      "cell_type": "markdown",
      "source": [
        "### Understanding the Compounding Effect\n",
        "\n",
        "$$ A = P * \\left( 1 + \\frac{r}{n} \\right) ^{n*t}$$\n",
        "\n",
        "Where,\n",
        "\n",
        "- A  = Final amount\n",
        "- P  = Principal (initial investment)\n",
        "- r  = Annual interest rate (as a decimal)\n",
        "- n  = Times interest is compounded per year\n",
        "- t  = Time in years\n"
      ],
      "metadata": {
        "id": "zyYa0RR2L_8n"
      }
    },
    {
      "cell_type": "code",
      "execution_count": 1,
      "metadata": {
        "id": "XrEjSeR5UQVl",
        "outputId": "0312870c-0549-4388-8c8b-26f7d0a0d7dd",
        "colab": {
          "base_uri": "https://localhost:8080/"
        }
      },
      "outputs": [
        {
          "output_type": "stream",
          "name": "stdout",
          "text": [
            "Compound Interest Calculator Results:\n",
            "Principal Amount: $1000.00\n",
            "Annual Interest Rate: 6.00%\n",
            "Compounding Frequency: 1 times per year\n",
            "Number of Years: 10\n",
            "Total Amount: $1790.85\n",
            "Total Interest Earned: $790.85\n"
          ]
        }
      ],
      "source": [
        "#@title Compound Interest Calculator\n",
        "\n",
        "#@markdown Enter the principal amount (P in $):\n",
        "principal = 1000 #@param {type:\"number\"}\n",
        "\n",
        "#@markdown Enter the annual interest rate as a percentage (r):\n",
        "interest_rate = 6 #@param {type:\"number\"}\n",
        "\n",
        "#@markdown Enter the number of times interest is compounded per year (n):\n",
        "compounding_frequency = 1 #@param {type:\"number\"}\n",
        "\n",
        "#@markdown Enter the number of years (t):\n",
        "years = 10 #@param {type:\"number\"}\n",
        "\n",
        "\n",
        "# Calculate compound interest\n",
        "# 1. Convert percentage into decimal\n",
        "interest_rate_decimal = 0.06 #percentage in decimal\n",
        "\n",
        "\n",
        "# 2. Calculate the final amount (A)\n",
        "final_amount = principal * (1 + (interest_rate_decimal / compounding_frequency)) ** (compounding_frequency * years)\n",
        "\n",
        "\n",
        "# 3. Calculate the total interest earned\n",
        "total_interest = final_amount - principal\n",
        "\n",
        "\n",
        "# Display the results\n",
        "print(\"Compound Interest Calculator Results:\")\n",
        "print(f\"Principal Amount: ${principal:.2f}\")\n",
        "print(f\"Annual Interest Rate: {interest_rate:.2f}%\")\n",
        "print(f\"Compounding Frequency: {compounding_frequency} times per year\")\n",
        "print(f\"Number of Years: {years}\")\n",
        "print(f\"Total Amount: ${final_amount:.2f}\")\n",
        "print(f\"Total Interest Earned: ${total_interest:.2f}\")\n"
      ]
    },
    {
      "cell_type": "markdown",
      "source": [
        "### Effect of starting principal (P)\n",
        "\n",
        "Write a function to calculate total amount and total interest earned for starting principal (P in $): 10, 50, 100, 500 and 1000. Assume r=5%, n=1 and t=5.\n",
        "\n",
        "Hint: Iterate over a list data structure containing 'P' values using a compound interest calculator function"
      ],
      "metadata": {
        "id": "ScJlnZfEbTUH"
      }
    },
    {
      "cell_type": "markdown",
      "source": [
        "#### Write a simple conclusion on what the effect of starting principal (more 'P') is on a compounding interest investment?"
      ],
      "metadata": {
        "id": "BIcD3dEecSpq"
      }
    },
    {
      "cell_type": "code",
      "source": [
        "# Calculate the effect of starting principal (more 'P')\n",
        "def calculate_compound_interest(principal, interest_rate, compounding_frequency, years):\n",
        "    interest_rate_decimal = interest_rate / 100\n",
        "    final_amount = principal * (1 + (interest_rate_decimal / compounding_frequency)) ** (compounding_frequency * years)\n",
        "    total_interest = final_amount - principal\n",
        "    return final_amount, total_interest\n",
        "\n",
        "principal_list = [10, 50, 100, 500, 1000]\n",
        "interest_rate = 5\n",
        "compounding_frequency = 1\n",
        "years = 5\n",
        "\n",
        "for principal in principal_list:\n",
        "    final_amount, total_interest = calculate_compound_interest(principal, interest_rate, compounding_frequency, years)\n",
        "    print(f\"Principal Amount: ${principal:.2f}, Total Amount: ${final_amount:.2f}, Total Interest Earned: ${total_interest:.2f}\")\n",
        "    print()"
      ],
      "metadata": {
        "id": "MICZ2cnDbrZg",
        "outputId": "10abe731-2dc4-447e-c2d6-c2e11f26290a",
        "colab": {
          "base_uri": "https://localhost:8080/"
        }
      },
      "execution_count": 7,
      "outputs": [
        {
          "output_type": "stream",
          "name": "stdout",
          "text": [
            "Principal Amount: $10.00, Total Amount: $12.76, Total Interest Earned: $2.76\n",
            "\n",
            "Principal Amount: $50.00, Total Amount: $63.81, Total Interest Earned: $13.81\n",
            "\n",
            "Principal Amount: $100.00, Total Amount: $127.63, Total Interest Earned: $27.63\n",
            "\n",
            "Principal Amount: $500.00, Total Amount: $638.14, Total Interest Earned: $138.14\n",
            "\n",
            "Principal Amount: $1000.00, Total Amount: $1276.28, Total Interest Earned: $276.28\n",
            "\n"
          ]
        }
      ]
    },
    {
      "cell_type": "markdown",
      "source": [
        "### Effect of starting early (more years of investing = more 't')\n",
        "\n",
        "Reuse the compounding interest calculator function above and determine the effect of more years of investing 't': 2yrs, 5yrs, 10yrs, 20yrs, 30yrs. Assume P=\\$100, r=5% and n=1."
      ],
      "metadata": {
        "id": "3Zi_t5Ftcsw1"
      }
    },
    {
      "cell_type": "code",
      "source": [
        "# Calculate the effect of starting early (more 't')\n",
        "\n",
        "def calculate_compound_interest(principal, interest_rate, compounding_frequency, years):\n",
        "    interest_rate_decimal = interest_rate / 100\n",
        "    final_amount = principal * (1 + (interest_rate_decimal / compounding_frequency)) ** (compounding_frequency * years)\n",
        "    total_interest = final_amount - principal\n",
        "    return final_amount, total_interest\n",
        "\n",
        "principal = 100\n",
        "time_list = [2,5,10,20]\n",
        "interest_rate = 5\n",
        "compounding_frequency = 1\n",
        "\n",
        "for time in time_list:\n",
        "    final_amount, total_interest = calculate_compound_interest(principal, interest_rate, compounding_frequency, time)\n",
        "    print(f\"Principal Amount: ${principal:.2f}, Total Amount: ${final_amount:.2f}, Total Interest Earned: ${total_interest:.2f}\")\n",
        "    print()"
      ],
      "metadata": {
        "id": "a5jHCG7NdcBf",
        "outputId": "bc0cf8ff-1b37-4b46-912a-6c734bf8c5dd",
        "colab": {
          "base_uri": "https://localhost:8080/"
        }
      },
      "execution_count": 8,
      "outputs": [
        {
          "output_type": "stream",
          "name": "stdout",
          "text": [
            "Principal Amount: $100.00, Total Amount: $110.25, Total Interest Earned: $10.25\n",
            "\n",
            "Principal Amount: $100.00, Total Amount: $127.63, Total Interest Earned: $27.63\n",
            "\n",
            "Principal Amount: $100.00, Total Amount: $162.89, Total Interest Earned: $62.89\n",
            "\n",
            "Principal Amount: $100.00, Total Amount: $265.33, Total Interest Earned: $165.33\n",
            "\n"
          ]
        }
      ]
    },
    {
      "cell_type": "markdown",
      "source": [
        "#### Write a simple conclusion on what the effect of starting early (more 't') is on a compounding interest investment?\n"
      ],
      "metadata": {
        "id": "dkDFHmiNdosi"
      }
    },
    {
      "cell_type": "markdown",
      "source": [
        "Interest earned increases exponentially"
      ],
      "metadata": {
        "id": "MPCLqRJIgsqL"
      }
    },
    {
      "cell_type": "markdown",
      "source": [
        "### Effect of better rate of return (more 'r')\n",
        "\n",
        "Reuse the compounding interest calculator function above and determine the effect of better rate of return 'r': 2%, 5%, 8% and 10%. Assume P=$100, n=1 and t=5."
      ],
      "metadata": {
        "id": "b4HolM8adwzl"
      }
    },
    {
      "cell_type": "code",
      "source": [
        "# Calculate the effect of better rate of return (more 'r')\n",
        "# Calculate the effect of starting early (more 't')\n",
        "\n",
        "def calculate_compound_interest(principal, interest_rate, compounding_frequency, years):\n",
        "    interest_rate_decimal = interest_rate / 100\n",
        "    final_amount = principal * (1 + (interest_rate_decimal / compounding_frequency)) ** (compounding_frequency * years)\n",
        "    total_interest = final_amount - principal\n",
        "    return final_amount, total_interest\n",
        "\n",
        "principal = 100\n",
        "rate_list = [2,5,8,10]\n",
        "years = 5\n",
        "compounding_frequency = 1\n",
        "\n",
        "for rate in rate_list:\n",
        "    final_amount, total_interest = calculate_compound_interest(principal, rate, compounding_frequency, years)\n",
        "    print(f\"Principal Amount: ${principal:.2f}, Total Amount: ${final_amount:.2f}, Total Interest Earned: ${total_interest:.2f}\")\n",
        "    print()\n"
      ],
      "metadata": {
        "id": "pbcjQ24Kew56",
        "outputId": "c7b9687a-3cad-47ff-d33b-750ac81fab31",
        "colab": {
          "base_uri": "https://localhost:8080/"
        }
      },
      "execution_count": 9,
      "outputs": [
        {
          "output_type": "stream",
          "name": "stdout",
          "text": [
            "Principal Amount: $100.00, Total Amount: $110.41, Total Interest Earned: $10.41\n",
            "\n",
            "Principal Amount: $100.00, Total Amount: $127.63, Total Interest Earned: $27.63\n",
            "\n",
            "Principal Amount: $100.00, Total Amount: $146.93, Total Interest Earned: $46.93\n",
            "\n",
            "Principal Amount: $100.00, Total Amount: $161.05, Total Interest Earned: $61.05\n",
            "\n"
          ]
        }
      ]
    },
    {
      "cell_type": "markdown",
      "source": [
        "#### Write a simple conclusion on what the effect of better rate of return (more 'r') is on a compounding interest investment?"
      ],
      "metadata": {
        "id": "q5ihxgcKez4g"
      }
    },
    {
      "cell_type": "markdown",
      "source": [
        "Interest earned increases exponentially"
      ],
      "metadata": {
        "id": "uDqY-94Fg4TM"
      }
    },
    {
      "cell_type": "markdown",
      "source": [
        "### What happens to a compounding interest investment if you also do recurring investment (adding fixed \\$ amount in a fixed time frequency into the principal 'P')"
      ],
      "metadata": {
        "id": "8RPUEsNYe7nw"
      }
    },
    {
      "cell_type": "code",
      "source": [
        "# Write a new python function that will also take a fixed recurring deposit 'rd' every month to calculate compounding interest\n",
        "\n",
        "# Calculate the effect of starting principal (more 'P')\n",
        "def calculate_compound_interest(principal, interest_rate, compounding_frequency, years):\n",
        "    interest_rate_decimal = interest_rate / 100\n",
        "    final_amount = principal * (1 + (interest_rate_decimal / compounding_frequency)) ** (compounding_frequency * years)\n",
        "    total_interest = final_amount - principal\n",
        "    return final_amount, total_interest\n",
        "def calculate_compound_interest_recurr(principal, interest_rate, compounding_cycles, rd):\n",
        "    interest_rate_decimal = interest_rate / 100\n",
        "    final_amount = 0;\n",
        "    #Nested function call executed per compounding cycle(rd and rate are passed to this function calculated per compounding cycle)\n",
        "    if compounding_cycles > 2:\n",
        "        final_amount_nest, total_interest_nest = calculate_compound_interest_recurr(rd, interest_rate,compounding_cycles-1,rd)\n",
        "    else:\n",
        "        final_amount_nest, total_interest_nest = calculate_compound_interest(principal+rd, interest_rate,1,1)\n",
        "\n",
        "    final_amount_int, total_interest_int = calculate_compound_interest(principal, interest_rate,1,compounding_cycles)\n",
        "    final_amount = final_amount_int + final_amount_nest\n",
        "    total_interest = total_interest_int + total_interest_nest\n",
        "#    print(f\"Principal Recur Amount: ${principal:.2f}, Total Amount Rec: ${final_amount_nest:.2f}, Total Interest Earned Rec: ${total_interest_nest:.2f}\")\n",
        "#    print(f\"Principal int Amount: ${principal:.2f}, Total Amount int: ${final_amount_int:.2f}, Total Interest Earned int: ${total_interest_int:.2f}\")\n",
        "    return final_amount, total_interest\n",
        "\n",
        "principal_list = [10, 50, 100, 500, 1000]\n",
        "interest_rate = 5\n",
        "compounding_frequency = 1\n",
        "years = 5\n",
        "rd = 10 * (12/compounding_frequency)  #Because 'rd' is monthly multiplying by a factor for 12\n",
        "\n",
        "for principal in principal_list:\n",
        "    final_amount, total_interest = calculate_compound_interest_recurr(principal, (interest_rate/compounding_frequency), compounding_frequency * years,rd)\n",
        "    print(f\"Principal Amount: ${principal:.2f}, Total Amount: ${final_amount:.2f}, Total Interest Earned: ${total_interest:.2f}\")\n"
      ],
      "metadata": {
        "id": "PXVG53KdffHD",
        "outputId": "65141399-f52d-4920-f992-690175bc69aa",
        "colab": {
          "base_uri": "https://localhost:8080/"
        }
      },
      "execution_count": 15,
      "outputs": [
        {
          "output_type": "stream",
          "name": "stdout",
          "text": [
            "Principal Amount: $10.00, Total Amount: $681.84, Total Interest Earned: $71.84\n",
            "Principal Amount: $50.00, Total Amount: $732.89, Total Interest Earned: $82.89\n",
            "Principal Amount: $100.00, Total Amount: $796.70, Total Interest Earned: $96.70\n",
            "Principal Amount: $500.00, Total Amount: $1307.22, Total Interest Earned: $207.22\n",
            "Principal Amount: $1000.00, Total Amount: $1945.36, Total Interest Earned: $345.36\n"
          ]
        }
      ]
    },
    {
      "cell_type": "markdown",
      "source": [
        "#### What is the effect of disciplined investing using recurring deposits?\n",
        "\n",
        "Use the new compounding interest calculator with recurring investment to calculate the effect of disciplined investing. Assume P=$100, r=5%, n=12 (monthly compounding), t=5.\n",
        "\n",
        "Calculate for different 'rd' (in $): 0, 1, 5, 10, 50, 100"
      ],
      "metadata": {
        "id": "WoKmXBp3gaeN"
      }
    },
    {
      "cell_type": "code",
      "source": [
        "# Write code to calculate the final_amount (A) for recurring deposits into monthly compounding investment\n",
        "def calculate_compound_interest(principal, interest_rate, compounding_frequency, years):\n",
        "    interest_rate_decimal = interest_rate / 100\n",
        "    final_amount = principal * (1 + (interest_rate_decimal / compounding_frequency)) ** (compounding_frequency * years)\n",
        "    total_interest = final_amount - principal\n",
        "    return final_amount, total_interest\n",
        "def calculate_compound_interest_recurr(principal, interest_rate, compounding_cycles, rd):\n",
        "    interest_rate_decimal = interest_rate / 100\n",
        "    final_amount = 0;\n",
        "    #Nested function call executed per compounding cycle(rd and rate are passed to this function calculated per compounding cycle)\n",
        "    if compounding_cycles > 2:\n",
        "        final_amount_nest, total_interest_nest = calculate_compound_interest_recurr(rd, interest_rate,compounding_cycles-1,rd)\n",
        "    else:\n",
        "        final_amount_nest, total_interest_nest = calculate_compound_interest(principal+rd, interest_rate,1,1)\n",
        "\n",
        "    final_amount_int, total_interest_int = calculate_compound_interest(principal, interest_rate,1,compounding_cycles)\n",
        "    final_amount = final_amount_int + final_amount_nest\n",
        "    total_interest = total_interest_int + total_interest_nest\n",
        "#    print(f\"Principal Recur Amount: ${principal:.2f}, Total Amount Rec: ${final_amount_nest:.2f}, Total Interest Earned Rec: ${total_interest_nest:.2f}\")\n",
        "#    print(f\"Principal int Amount: ${principal:.2f}, Total Amount int: ${final_amount_int:.2f}, Total Interest Earned int: ${total_interest_int:.2f}\")\n",
        "    return final_amount, total_interest\n",
        "\n",
        "principal = 100\n",
        "rd_list = [0, 1, 5, 10, 50, 100]\n",
        "interest_rate = 5\n",
        "compounding_frequency = 12\n",
        "years = 5\n",
        "rd = 10 * (12/compounding_frequency)  #Because 'rd' is monthly multiplying by a factor for 12\n",
        "\n",
        "for rd in rd_list:\n",
        "    final_amount, total_interest = calculate_compound_interest_recurr(principal, (interest_rate/compounding_frequency), compounding_frequency * years,rd)\n",
        "    print(f\"Principal Amount: ${principal:.2f}, Total Amount: ${final_amount:.2f}, Total Interest Earned: ${total_interest:.2f}\")\n",
        "\n",
        "\n"
      ],
      "metadata": {
        "id": "gz8NLxgzhHlU",
        "outputId": "e2379f87-979c-4032-9565-de25734abf8d",
        "colab": {
          "base_uri": "https://localhost:8080/"
        }
      },
      "execution_count": 17,
      "outputs": [
        {
          "output_type": "stream",
          "name": "stdout",
          "text": [
            "Principal Amount: $100.00, Total Amount: $128.34, Total Interest Earned: $28.34\n",
            "Principal Amount: $100.00, Total Amount: $196.35, Total Interest Earned: $36.35\n",
            "Principal Amount: $100.00, Total Amount: $468.39, Total Interest Earned: $68.39\n",
            "Principal Amount: $100.00, Total Amount: $808.44, Total Interest Earned: $108.44\n",
            "Principal Amount: $100.00, Total Amount: $3528.85, Total Interest Earned: $428.85\n",
            "Principal Amount: $100.00, Total Amount: $6929.36, Total Interest Earned: $829.36\n"
          ]
        }
      ]
    },
    {
      "cell_type": "markdown",
      "source": [
        "#### Write a simple conclusion on what is the effect of disciplined investing using recurring deposits?"
      ],
      "metadata": {
        "id": "HzaDkeEmhRTd"
      }
    },
    {
      "cell_type": "markdown",
      "source": [
        "The graphs followed by the total amount chart a series of exponential curves of a steeper aspect with the increase of recurring deposit"
      ],
      "metadata": {
        "id": "QHPnwP3UdK32"
      }
    },
    {
      "cell_type": "markdown",
      "source": [
        "### What problems/decisions that you face in life can be solved using basic Python programming? Share atleast two ideas.\n",
        "\n",
        "\n"
      ],
      "metadata": {
        "id": "V1SICqGdi3bu"
      }
    },
    {
      "cell_type": "markdown",
      "source": [
        "# Final Retrospection:\n",
        "### What challenges did you face while programming with Python?\n",
        "\n",
        "\n",
        "\n",
        "### How did you overcome those challenges?\n",
        "\n",
        "\n",
        "\n",
        "### Mention other resources you used to solve this take-home assignment\n",
        "\n",
        "\n",
        "\n",
        "### Did you use any tools (like ChatGPT) to solve the issues? What are the challenges and opportunities?\n",
        "\n",
        "\n",
        "\n",
        "### After this exercise, are you feeling excited to learn more?\n",
        "\n",
        "\n",
        "\n",
        "\n",
        "NOTE: Save the file with your code and text answers before committing it to your new GitHub public repository. Send a link to your file on Github to the TA."
      ],
      "metadata": {
        "id": "gnnYEjdqhh7f"
      }
    }
  ]
}