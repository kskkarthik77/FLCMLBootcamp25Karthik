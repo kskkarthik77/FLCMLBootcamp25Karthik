{
  "nbformat": 4,
  "nbformat_minor": 0,
  "metadata": {
    "colab": {
      "provenance": [],
      "include_colab_link": true
    },
    "kernelspec": {
      "name": "python3",
      "display_name": "Python 3"
    },
    "language_info": {
      "name": "python"
    }
  },
  "cells": [
    {
      "cell_type": "markdown",
      "metadata": {
        "id": "view-in-github",
        "colab_type": "text"
      },
      "source": [
        "<a href=\"https://colab.research.google.com/github/kskkarthik77/FLCMLBootcamp25Karthik/blob/main/3_Basics_PythonProject.ipynb\" target=\"_parent\"><img src=\"https://colab.research.google.com/assets/colab-badge.svg\" alt=\"Open In Colab\"/></a>"
      ]
    },
    {
      "cell_type": "markdown",
      "source": [
        "# Digital Grocery Basket\n"
      ],
      "metadata": {
        "id": "5H0qdWVYGpju"
      }
    },
    {
      "cell_type": "markdown",
      "source": [
        "## Problem statement\n",
        "\n",
        "#### Create a simple digital grocery basket using which a grocer can process check-out at a grocery store and generate a receipt:\n",
        "- Add items to the basket.\n",
        "- Remove items from the basket.\n",
        "- Update the quantity of items in the basket.\n",
        "- Display the current basket contents.\n",
        "- Save and load the basket data using JSON for persistence.\n",
        "- Once all the items are added, display a receipt of the purchase.\n",
        "- Track transactions and manage inventory"
      ],
      "metadata": {
        "id": "GuYD2f2rR9G1"
      }
    },
    {
      "cell_type": "markdown",
      "source": [
        "## Initialize the inventory of the grocery mart"
      ],
      "metadata": {
        "id": "4B_XLGT9SFy1"
      }
    },
    {
      "cell_type": "code",
      "source": [
        "import json\n",
        "import os\n",
        "import pandas as pd\n",
        "import requests\n",
        "from IPython.display import display # Import display"
      ],
      "metadata": {
        "id": "KYDvvXAyKS3G"
      },
      "execution_count": 5,
      "outputs": []
    },
    {
      "cell_type": "code",
      "source": [
        "# Fetch the JSON data from the URL\n",
        "url = 'https://raw.githubusercontent.com/shashankbl/mlbootcamp2025flc/main/extras/grocery_inventory.json'  # Use 'raw.githubusercontent.com'\n",
        "url_basket = 'https://github.com/kskkarthik77/FLCMLBootcamp25Karthik/blob/main/basket.csv' # Basket csv\n",
        "try:\n",
        "    response = requests.get(url)\n",
        "    response.raise_for_status()  # Raise an exception for bad status codes\n",
        "    data = response.json()\n",
        "except requests.exceptions.RequestException as e:\n",
        "    print(f\"Error fetching JSON from URL: {e}\")\n",
        "    data = {}  # Initialize as empty dictionary in case of error\n",
        "\n",
        "try:\n",
        "    response_basket = requests.get(url_basket)\n",
        "    response_basket.raise_for_status()  # Raise an exception for bad status codes\n",
        "    with open('basket.csv', 'wb') as file:\n",
        "        file.write(response.content)\n",
        "except requests.exceptions.RequestException as e:\n",
        "    print(f\"Error fetching csv from URL: {e}\")\n",
        "\n",
        "try:\n",
        "    df = pd.DataFrame(data)\n",
        "    display(df) # Display the DataFrame using display() for pretty print\n",
        "except (ValueError, KeyError) as e:\n",
        "    print(f\"Error converting JSON to DataFrame: {e}\")\n",
        "    if data:\n",
        "        print(\"JSON data loaded but could not be formatted as a table\")"
      ],
      "metadata": {
        "id": "L7z3JpNqKznt",
        "colab": {
          "base_uri": "https://localhost:8080/",
          "height": 106
        },
        "outputId": "367c5fda-35ec-4e84-fdec-149aab03c4fb"
      },
      "execution_count": 7,
      "outputs": [
        {
          "output_type": "error",
          "ename": "SyntaxError",
          "evalue": "expected 'except' or 'finally' block (<ipython-input-7-c9dffaac49a4>, line 15)",
          "traceback": [
            "\u001b[0;36m  File \u001b[0;32m\"<ipython-input-7-c9dffaac49a4>\"\u001b[0;36m, line \u001b[0;32m15\u001b[0m\n\u001b[0;31m    if response.status_code == 200:\u001b[0m\n\u001b[0m    ^\u001b[0m\n\u001b[0;31mSyntaxError\u001b[0m\u001b[0;31m:\u001b[0m expected 'except' or 'finally' block\n"
          ]
        }
      ]
    },
    {
      "cell_type": "code",
      "source": [
        "# Understand the list of items under each category\n",
        "groupes = df.groupby('category')\n",
        "\n",
        "for category, group in groupes:\n",
        "    print(f\"\\nCategory: {category}\")\n",
        "    print(list(group['item']))\n",
        "\n",
        "    # TODO: Write code below to calculate and print the number of items under each category\n",
        "    # ..."
      ],
      "metadata": {
        "id": "A83EZZW0QlaS",
        "colab": {
          "base_uri": "https://localhost:8080/"
        },
        "outputId": "7bf11fa0-b5a9-434f-fc11-ab42f911ceed"
      },
      "execution_count": 12,
      "outputs": [
        {
          "output_type": "stream",
          "name": "stdout",
          "text": [
            "\n",
            "Category: beverages\n",
            "['soda', 'sparkling_water']\n",
            "\n",
            "Category: dairy\n",
            "['milk', 'yogurt', 'cheese']\n",
            "\n",
            "Category: dessert\n",
            "['icecream', 'mochi']\n",
            "\n",
            "Category: fruit\n",
            "['apple', 'oranges', 'strawberry']\n",
            "\n",
            "Category: vegetable\n",
            "['tomato', 'onion', 'carrot', 'pepper', 'eggplant', 'broccoli', 'beans']\n"
          ]
        }
      ]
    },
    {
      "cell_type": "markdown",
      "source": [
        "## Digital Grocery Basket"
      ],
      "metadata": {
        "id": "Eb8n3cKpRGMF"
      }
    },
    {
      "cell_type": "code",
      "source": [
        "# Python class called GroceryBasket\n",
        "class GroceryBasket:\n",
        "    def __init__(self, filename=\"basket.csv\"):\n",
        "        self.filename = filename\n",
        "        self.basket = self.load_basket()\n",
        "\n",
        "    def load_basket(self):\n",
        "        \"\"\"Load basket from basket.csv\"\"\"\n",
        "        try:\n",
        "          basket_inst = pd.read_csv('basket.csv')\n",
        "        except FileNotFoundError:\n",
        "          print(\"Error: 'basket.csv' not found in the Project folder.\")\n",
        "          # Handle the error appropriately, e.g., exit or use a different dataset\n",
        "          exit()\n",
        "        return basket_inst\n",
        "\n",
        "    def save_basket(self):\n",
        "        \"\"\"Save basket to basket.csv\"\"\"\n",
        "        # TODO\n",
        "\n",
        "    def add_item(self, item, quantity):\n",
        "        \"\"\"Add an item or update quantity\"\"\"\n",
        "        # TODO\n",
        "\n",
        "    def remove_item(self, item):\n",
        "        \"\"\"Remove an item from the basket\"\"\"\n",
        "        # TODO\n",
        "\n",
        "    def update_quantity(self, item, quantity):\n",
        "        \"\"\"Update the quantity of an item\"\"\"\n",
        "        # TODO\n",
        "\n",
        "    def view_basket(self):\n",
        "        \"\"\"Display the basket contents\"\"\"\n",
        "        # TODO\n",
        "\n",
        "    def clear_basket(self):\n",
        "        \"\"\"Clear all items in the basket\"\"\"\n",
        "        # TODO\n",
        "\n"
      ],
      "metadata": {
        "id": "FGCYRLMORmR3"
      },
      "execution_count": 4,
      "outputs": []
    },
    {
      "cell_type": "code",
      "source": [
        "basket = GroceryBasket()\n",
        "\n",
        "while True:\n",
        "    print(\"\\n--- Choose an option ---\")\n",
        "    print(\"1=Add item, 2=Remove item, 3=Update quantity, 4=View basket, 5=Clear basket, 6=Checkout\")\n",
        "    choice = input(\"Enter your choice: \")\n",
        "    if choice == \"1\":\n",
        "        item = input(\"Enter item name: \")\n",
        "        quantity = int(input(\"Enter quantity: \"))\n",
        "        #basket.add_item(item, quantity)\n",
        "        basket.load_basket()\n",
        "    elif choice == \"6\":\n",
        "        break\n",
        "\n",
        "    # NOTE: Users can only shop items already present in the initial inventory\n",
        "    # Take user input and check if it is a valid input\n",
        "        # Validate for remaining inventory, max quantity per transaction,...\n",
        "    # If user input is valid, conduct actions with the digital grocery basket\n",
        "    # If user input is invalid, provide a clear prompt mentioning the error\n",
        "    # Exit the while loop once user opts to checkout\n",
        "\n",
        "    # TODO:\n",
        "    # write code here..."
      ],
      "metadata": {
        "id": "_WXUw2ZNSl0Y",
        "colab": {
          "base_uri": "https://localhost:8080/",
          "height": 356
        },
        "outputId": "03ee67b0-388a-402b-8fdb-9d932a9e25e0"
      },
      "execution_count": 2,
      "outputs": [
        {
          "output_type": "error",
          "ename": "NameError",
          "evalue": "name 'pd' is not defined",
          "traceback": [
            "\u001b[0;31m---------------------------------------------------------------------------\u001b[0m",
            "\u001b[0;31mNameError\u001b[0m                                 Traceback (most recent call last)",
            "\u001b[0;32m<ipython-input-2-b9272d690279>\u001b[0m in \u001b[0;36m<cell line: 0>\u001b[0;34m()\u001b[0m\n\u001b[0;32m----> 1\u001b[0;31m \u001b[0mbasket\u001b[0m \u001b[0;34m=\u001b[0m \u001b[0mGroceryBasket\u001b[0m\u001b[0;34m(\u001b[0m\u001b[0;34m)\u001b[0m\u001b[0;34m\u001b[0m\u001b[0;34m\u001b[0m\u001b[0m\n\u001b[0m\u001b[1;32m      2\u001b[0m \u001b[0;34m\u001b[0m\u001b[0m\n\u001b[1;32m      3\u001b[0m \u001b[0;32mwhile\u001b[0m \u001b[0;32mTrue\u001b[0m\u001b[0;34m:\u001b[0m\u001b[0;34m\u001b[0m\u001b[0;34m\u001b[0m\u001b[0m\n\u001b[1;32m      4\u001b[0m     \u001b[0mprint\u001b[0m\u001b[0;34m(\u001b[0m\u001b[0;34m\"\\n--- Choose an option ---\"\u001b[0m\u001b[0;34m)\u001b[0m\u001b[0;34m\u001b[0m\u001b[0;34m\u001b[0m\u001b[0m\n\u001b[1;32m      5\u001b[0m     \u001b[0mprint\u001b[0m\u001b[0;34m(\u001b[0m\u001b[0;34m\"1=Add item, 2=Remove item, 3=Update quantity, 4=View basket, 5=Clear basket, 6=Checkout\"\u001b[0m\u001b[0;34m)\u001b[0m\u001b[0;34m\u001b[0m\u001b[0;34m\u001b[0m\u001b[0m\n",
            "\u001b[0;32m<ipython-input-1-f110f118aa25>\u001b[0m in \u001b[0;36m__init__\u001b[0;34m(self, filename)\u001b[0m\n\u001b[1;32m      3\u001b[0m     \u001b[0;32mdef\u001b[0m \u001b[0m__init__\u001b[0m\u001b[0;34m(\u001b[0m\u001b[0mself\u001b[0m\u001b[0;34m,\u001b[0m \u001b[0mfilename\u001b[0m\u001b[0;34m=\u001b[0m\u001b[0;34m\"basket.csv\"\u001b[0m\u001b[0;34m)\u001b[0m\u001b[0;34m:\u001b[0m\u001b[0;34m\u001b[0m\u001b[0;34m\u001b[0m\u001b[0m\n\u001b[1;32m      4\u001b[0m         \u001b[0mself\u001b[0m\u001b[0;34m.\u001b[0m\u001b[0mfilename\u001b[0m \u001b[0;34m=\u001b[0m \u001b[0mfilename\u001b[0m\u001b[0;34m\u001b[0m\u001b[0;34m\u001b[0m\u001b[0m\n\u001b[0;32m----> 5\u001b[0;31m         \u001b[0mself\u001b[0m\u001b[0;34m.\u001b[0m\u001b[0mbasket\u001b[0m \u001b[0;34m=\u001b[0m \u001b[0mself\u001b[0m\u001b[0;34m.\u001b[0m\u001b[0mload_basket\u001b[0m\u001b[0;34m(\u001b[0m\u001b[0;34m)\u001b[0m\u001b[0;34m\u001b[0m\u001b[0;34m\u001b[0m\u001b[0m\n\u001b[0m\u001b[1;32m      6\u001b[0m \u001b[0;34m\u001b[0m\u001b[0m\n\u001b[1;32m      7\u001b[0m     \u001b[0;32mdef\u001b[0m \u001b[0mload_basket\u001b[0m\u001b[0;34m(\u001b[0m\u001b[0mself\u001b[0m\u001b[0;34m)\u001b[0m\u001b[0;34m:\u001b[0m\u001b[0;34m\u001b[0m\u001b[0;34m\u001b[0m\u001b[0m\n",
            "\u001b[0;32m<ipython-input-1-f110f118aa25>\u001b[0m in \u001b[0;36mload_basket\u001b[0;34m(self)\u001b[0m\n\u001b[1;32m      8\u001b[0m         \u001b[0;34m\"\"\"Load basket from basket.csv\"\"\"\u001b[0m\u001b[0;34m\u001b[0m\u001b[0;34m\u001b[0m\u001b[0m\n\u001b[1;32m      9\u001b[0m         \u001b[0;32mtry\u001b[0m\u001b[0;34m:\u001b[0m\u001b[0;34m\u001b[0m\u001b[0;34m\u001b[0m\u001b[0m\n\u001b[0;32m---> 10\u001b[0;31m           \u001b[0mbasket_inst\u001b[0m \u001b[0;34m=\u001b[0m \u001b[0mpd\u001b[0m\u001b[0;34m.\u001b[0m\u001b[0mread_csv\u001b[0m\u001b[0;34m(\u001b[0m\u001b[0;34m'basket.csv'\u001b[0m\u001b[0;34m)\u001b[0m\u001b[0;34m\u001b[0m\u001b[0;34m\u001b[0m\u001b[0m\n\u001b[0m\u001b[1;32m     11\u001b[0m         \u001b[0;32mexcept\u001b[0m \u001b[0mFileNotFoundError\u001b[0m\u001b[0;34m:\u001b[0m\u001b[0;34m\u001b[0m\u001b[0;34m\u001b[0m\u001b[0m\n\u001b[1;32m     12\u001b[0m           \u001b[0mprint\u001b[0m\u001b[0;34m(\u001b[0m\u001b[0;34m\"Error: 'basket.csv' not found in the Project folder.\"\u001b[0m\u001b[0;34m)\u001b[0m\u001b[0;34m\u001b[0m\u001b[0;34m\u001b[0m\u001b[0m\n",
            "\u001b[0;31mNameError\u001b[0m: name 'pd' is not defined"
          ]
        }
      ]
    },
    {
      "cell_type": "code",
      "source": [
        "# TODO: Generate the final receipt for the transaction and also log the transaction into a transaction ledger\n",
        "# write code here..."
      ],
      "metadata": {
        "id": "6qndXmI3dz8i"
      },
      "execution_count": null,
      "outputs": []
    },
    {
      "cell_type": "code",
      "source": [
        "# TODO: Generate the remaining inventory after the transaction is completed\n",
        "# write code here..."
      ],
      "metadata": {
        "id": "BybLbYpXeDOh"
      },
      "execution_count": null,
      "outputs": []
    },
    {
      "cell_type": "code",
      "source": [
        "# TODO: Save all the data tables as csv\n",
        "# write code here..."
      ],
      "metadata": {
        "id": "ZSSVi5QNeMce"
      },
      "execution_count": null,
      "outputs": []
    }
  ]
}